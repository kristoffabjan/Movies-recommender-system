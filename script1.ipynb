{
 "cells": [
  {
   "cell_type": "code",
   "execution_count": 129,
   "metadata": {
    "scrolled": true
   },
   "outputs": [],
   "source": [
    "#Write a class (e.g. named UserItemData) in which you will store the read data. \n",
    "#I suggest that you have a path argument and three optional arguments in the class constructor: \n",
    " #   from_date (from which date to read data), to_date (by which date to read data), \n",
    "  #  and min_ratings (minimum number of ratings a movie should have). Add a method to the \n",
    "   # class that tells you how many ratings it has read. I suggest that you add a method that saves the \n",
    "    #read data or read the data using the pickle library\n",
    "import pandas as pd\n",
    "\n",
    "class UserItemData():\n",
    "    def __init__(self, *args):\n",
    "        # if args is 1 - path\n",
    "        if len(args) == 1:\n",
    "            self.df = pd.read_csv(args[0], sep='\\t')\n",
    "        else:\n",
    "            self.path = args[0]\n",
    "            self.from_date = args[1]\n",
    "            self.to_date = args[2]\n",
    "            self.min_ratings = args[3]\n",
    "            self.fd_list = self.from_date.split(\".\")\n",
    "            self.td_list = self.to_date.split(\".\")\n",
    "            self.inserted_fd = datetime.datetime(int(self.fd_list[2]), int(self.fd_list[1]), int(self.fd_list[0]))\n",
    "            \n",
    "            self.df1 = pd.read_csv(self.path, sep='\\t')\n",
    "            #dates applied BAD\n",
    "            self.cond = self.df1.loc[(self.df1['date_year'] >= int(self.fd_list[2])) & (self.df1['date_year'] <= int(self.td_list[2]))]\n",
    "            self.df2 = self.cond.groupby('movieID')[\"rating\"].count().reset_index(name=\"count\")\n",
    "            self.movies_enough_ratings = self.df2[\"movieID\"][self.df2[\"count\"] > self.min_ratings]\n",
    "            self.movies_list = self.movies_enough_ratings.to_list()\n",
    "            self.df = self.cond[self.cond['movieID'].isin(self.movies_list)]\n",
    "    def nratings(self):\n",
    "        return len(self.df.index)\n",
    "\n",
    "uim1 = UserItemData('data/user_ratedmovies.dat', \"12.10.2003\", \"12.10.2005\", 120)\n",
    "uim = UserItemData('data/user_ratedmovies.dat')\n",
    "\n",
    "#print(lolo1.df.head(5))\n",
    "#print(lolo1.cond)\n",
    "#print(lolo1.td_list[2])\n",
    "#print(uim1.nratings())    \n",
    "#print(uim1.df)"
   ]
  },
  {
   "cell_type": "code",
   "execution_count": 123,
   "metadata": {},
   "outputs": [
    {
     "name": "stdout",
     "output_type": "stream",
     "text": [
      "4    Father of the Bride Part II\n",
      "Name: title, dtype: object\n",
      "   id                        title  imdbID  \\\n",
      "0   1                    Toy story  114709   \n",
      "1   2                      Jumanji  113497   \n",
      "2   3               Grumpy Old Men  107050   \n",
      "3   4            Waiting to Exhale  114885   \n",
      "4   5  Father of the Bride Part II  113041   \n",
      "\n",
      "                                        spanishTitle  \\\n",
      "0                               Toy story (juguetes)   \n",
      "1                                            Jumanji   \n",
      "2                                Dos viejos gru�ones   \n",
      "3                               Esperando un respiro   \n",
      "4  Vuelve el padre de la novia (Ahora tambi�n abu...   \n",
      "\n",
      "                                      imdbPictureURL  year  \\\n",
      "0  http://ia.media-imdb.com/images/M/MV5BMTMwNDU0...  1995   \n",
      "1  http://ia.media-imdb.com/images/M/MV5BMzM5NjE1...  1995   \n",
      "2  http://ia.media-imdb.com/images/M/MV5BMTI5MTgy...  1993   \n",
      "3  http://ia.media-imdb.com/images/M/MV5BMTczMTMy...  1995   \n",
      "4  http://ia.media-imdb.com/images/M/MV5BMTg1NDc2...  1995   \n",
      "\n",
      "                          rtID rtAllCriticsRating rtAllCriticsNumReviews  \\\n",
      "0                    toy_story                  9                     73   \n",
      "1              1068044-jumanji                5.6                     28   \n",
      "2               grumpy_old_men                5.9                     36   \n",
      "3            waiting_to_exhale                5.6                     25   \n",
      "4  father_of_the_bride_part_ii                5.3                     19   \n",
      "\n",
      "  rtAllCriticsNumFresh  ... rtAllCriticsScore rtTopCriticsRating  \\\n",
      "0                   73  ...               100                8.5   \n",
      "1                   13  ...                46                5.8   \n",
      "2                   24  ...                66                  7   \n",
      "3                   14  ...                56                5.5   \n",
      "4                    9  ...                47                5.4   \n",
      "\n",
      "  rtTopCriticsNumReviews rtTopCriticsNumFresh rtTopCriticsNumRotten  \\\n",
      "0                     17                   17                     0   \n",
      "1                      5                    2                     3   \n",
      "2                      6                    5                     1   \n",
      "3                     11                    5                     6   \n",
      "4                      5                    1                     4   \n",
      "\n",
      "  rtTopCriticsScore rtAudienceRating rtAudienceNumRatings rtAudienceScore  \\\n",
      "0               100              3.7               102338              81   \n",
      "1                40              3.2                44587              61   \n",
      "2                83              3.2                10489              66   \n",
      "3                45              3.3                 5666              79   \n",
      "4                20                3                13761              64   \n",
      "\n",
      "                                        rtPictureURL  \n",
      "0  http://content7.flixster.com/movie/10/93/63/10...  \n",
      "1  http://content8.flixster.com/movie/56/79/73/56...  \n",
      "2  http://content6.flixster.com/movie/25/60/25602...  \n",
      "3  http://content9.flixster.com/movie/10/94/17/10...  \n",
      "4  http://content8.flixster.com/movie/25/54/25542...  \n",
      "\n",
      "[5 rows x 21 columns]\n"
     ]
    }
   ],
   "source": [
    "#Write a class that reads the movie file and has a get_title(movieID) method that\n",
    "#returns its title for a given movie ID. Example:\n",
    "\n",
    "#md = MovieData('data/movies.dat')\n",
    "#print(md.get_title(1))\n",
    "#Output:\n",
    "#Toy story\n",
    "import pandas as pd\n",
    "class MovieData():\n",
    "    def __init__(self, path):\n",
    "        self.path = path\n",
    "        self.df = pd.read_csv(self.path, sep='\\t')\n",
    "    def get_title(self, num):\n",
    "        return self.df['title'][self.df.id == num]\n",
    "    \n",
    "md1 = MovieData(\"data/movies.dat\")\n",
    "print(md1.get_title(5))\n",
    "print(md1.df.head(5)) \n"
   ]
  },
  {
   "cell_type": "code",
   "execution_count": 132,
   "metadata": {},
   "outputs": [
    {
     "name": "stdout",
     "output_type": "stream",
     "text": [
      "<class 'dict'>\n"
     ]
    }
   ],
   "source": [
    "#The word \"predictor\" will be used to denote classes that, in a certain way, assess for a certain user \n",
    "#the rating he would give to the movies or the products available to him. \n",
    "#These classes will have a fit(self, X) method, where X is of type UserItemData, \n",
    "#and a predict(self, user_id) method, where user_id is the user ID. \n",
    "#We will use the fit method to learn the model, and the predict to calculate the \n",
    "#recommended values for a given user. Recommended values can be e.g. returned as a dictionary.\n",
    "\n",
    "#Random predictor (+)\n",
    "#Write a RandomPredictor class that accepts a minimum and maximum rating in the constructor, \n",
    "#and the predict method returns a random value (between min and max) for each product.\n",
    "\n",
    "#md = MovieData('data/movies.dat')\n",
    "#uim = UserItemData('data/user_ratedmovies.dat') \n",
    "#rp = RandomPredictor(1, 5) rp.fit(uim) \n",
    "#pred = rp.predict(78) \n",
    "#print(type(pred)) \n",
    "#items = [1, 3, 20, 50, 100] \n",
    "#for item in items: \n",
    "#    print(\"Movie: {}, score: {}\".format(md.get_title(item), pred[item]))\n",
    "import random\n",
    "#1 : 10198\n",
    "class RandomPredictor():\n",
    "    def __init__(self, min_num, max_num):\n",
    "        self.min_num = min_num\n",
    "        self.max_num = max_num\n",
    "    def fit(self, frame):\n",
    "        self.df = frame.df\n",
    "    def predict(self, user_id):\n",
    "        self.user_rates = self.df[self.df['userID'] == user_id]\n",
    "        self.movie = self.user_rates['movieID'].to_list()\n",
    "        #otherwise insert movies table to get number of movies\n",
    "        self.full_list = list(range(1, 10198))\n",
    "        self.to_watch = self.get_unwatched_movies(self.full_list, self.movie)\n",
    "        \n",
    "        #fill random rates to movies that \"user_id\" havent watched yet\n",
    "        dicti = {}\n",
    "        for i in self.to_watch:\n",
    "                dicti[i] = random.randint(self.min_num,self.max_num)\n",
    "        return dicti\n",
    "    #enter all movies so we can find out which user havent seen yet\n",
    "    def movies_counter(self, movies_frame):\n",
    "        self.num_movies = len(self.df.index)\n",
    "    def get_unwatched_movies(self, all_movies, seen):\n",
    "        new_movies = all_movies\n",
    "        for s in seen:\n",
    "            if s in all_movies:\n",
    "                new_movies.remove(s)\n",
    "        return new_movies\n",
    "\n",
    "\n",
    "md = MovieData('data/movies.dat')\n",
    "uim = UserItemData('data/user_ratedmovies.dat') \n",
    "rp = RandomPredictor(1, 5) \n",
    "rp.fit(uim) \n",
    "pred = rp.predict(78) \n",
    "print(type(pred)) \n",
    "items = [1, 3, 20, 50, 100] \n",
    "for item in items: \n",
    "    print(\"Movie: {}, score: {}\".format(md.get_title(item), pred[item]))\n",
    "    \n"
   ]
  },
  {
   "cell_type": "code",
   "execution_count": 128,
   "metadata": {},
   "outputs": [
    {
     "name": "stdout",
     "output_type": "stream",
     "text": [
      "55        17\n",
      "56        29\n",
      "57        32\n",
      "58        41\n",
      "59        82\n",
      "       ...  \n",
      "518    46578\n",
      "519    46976\n",
      "520    48774\n",
      "521    49272\n",
      "522    50872\n",
      "Name: movieID, Length: 468, dtype: int64\n"
     ]
    }
   ],
   "source": [
    "rp = RandomPredictor(1,5)\n",
    "rp.fit(frame)\n",
    "rp.predict(78)\n",
    "print(rp.movie)"
   ]
  },
  {
   "cell_type": "code",
   "execution_count": 3,
   "metadata": {},
   "outputs": [
    {
     "name": "stdout",
     "output_type": "stream",
     "text": [
      "   userID  movieID  rating  date_day  date_month  date_year  date_hour  \\\n",
      "0      75        3     1.0        29          10       2006         23   \n",
      "1      75       32     4.5        29          10       2006         23   \n",
      "2      75      110     4.0        29          10       2006         23   \n",
      "3      75      160     2.0        29          10       2006         23   \n",
      "4      75      163     4.0        29          10       2006         23   \n",
      "\n",
      "   date_minute  date_second  \n",
      "0           17           16  \n",
      "1           23           44  \n",
      "2           30            8  \n",
      "3           16           52  \n",
      "4           29           30  \n"
     ]
    }
   ],
   "source": [
    "import pandas as pd\n",
    "import datetime\n",
    "\n",
    "df = pd.read_csv('data/user_ratedmovies.dat', sep='\\t')\n",
    "print(df.head(5))"
   ]
  },
  {
   "cell_type": "code",
   "execution_count": 81,
   "metadata": {},
   "outputs": [
    {
     "data": {
      "text/plain": [
       "True"
      ]
     },
     "execution_count": 81,
     "metadata": {},
     "output_type": "execute_result"
    }
   ],
   "source": [
    "md = MovieData('data/movies.dat')\n",
    "uim = UserItemData('data/user_ratedmovies.dat') \n",
    "rp = RandomPredictor(1, 5) \n",
    "rp.fit(uim) \n",
    "pred = rp.predict(78) \n",
    "print(type(pred)) \n",
    "items = [1, 3, 20, 50, 100] \n",
    "for item in items: \n",
    "    print(\"Movie: {}, score: {}\".format(md.get_title(item), pred[item]))"
   ]
  },
  {
   "cell_type": "code",
   "execution_count": null,
   "metadata": {},
   "outputs": [],
   "source": []
  }
 ],
 "metadata": {
  "kernelspec": {
   "display_name": "Python 3",
   "language": "python",
   "name": "python3"
  },
  "language_info": {
   "codemirror_mode": {
    "name": "ipython",
    "version": 3
   },
   "file_extension": ".py",
   "mimetype": "text/x-python",
   "name": "python",
   "nbconvert_exporter": "python",
   "pygments_lexer": "ipython3",
   "version": "3.8.5"
  }
 },
 "nbformat": 4,
 "nbformat_minor": 4
}
