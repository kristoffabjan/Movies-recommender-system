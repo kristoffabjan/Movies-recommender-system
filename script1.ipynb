{
 "cells": [
  {
   "cell_type": "code",
   "execution_count": 66,
   "metadata": {
    "scrolled": true
   },
   "outputs": [
    {
     "name": "stdout",
     "output_type": "stream",
     "text": [
      "72617\n"
     ]
    }
   ],
   "source": [
    "#Write a class (e.g. named UserItemData) in which you will store the read data. \n",
    "#I suggest that you have a path argument and three optional arguments in the class constructor: \n",
    " #   from_date (from which date to read data), to_date (by which date to read data), \n",
    "  #  and min_ratings (minimum number of ratings a movie should have). Add a method to the \n",
    "   # class that tells you how many ratings it has read. I suggest that you add a method that saves the \n",
    "    #read data or read the data using the pickle library\n",
    "import pandas as pd\n",
    "import datetime\n",
    "\n",
    "class UserItemData():\n",
    "    def __init__(self, *args):\n",
    "        # if args is 1 - path\n",
    "        if len(args) == 1:\n",
    "            self.df = pd.read_csv(args[0], sep='\\t')\n",
    "        else:\n",
    "            self.path = args[0]\n",
    "            self.from_datetime = datetime.datetime.strptime(args[1], \"%d.%m.%Y\")\n",
    "            self.to_datetime = datetime.datetime.strptime(args[2], \"%d.%m.%Y\")\n",
    "            self.min_ratings = args[3]\n",
    "            self.df1 = pd.read_csv(self.path, sep='\\t')\n",
    "            #computed date\n",
    "            self.df1[\"full_date\"] = self.df1[\"date_day\"].astype(str) + \".\" + self.df1[\"date_month\"].astype(str) + \".\" + self.df1[\"date_year\"].astype(str)\n",
    "            #dates filter\n",
    "            self.cond = self.df1.loc[(pd.to_datetime(self.df1['full_date']) >= self.from_datetime) & (pd.to_datetime(self.df1['full_date']) <= self.to_datetime)]\n",
    "            #movies count filter\n",
    "            self.df2 = self.cond.groupby('movieID')[\"rating\"].count().reset_index(name=\"count\")\n",
    "            self.movies_enough_ratings = self.df2[\"movieID\"][self.df2[\"count\"] >= self.min_ratings]\n",
    "            self.movies_list = self.movies_enough_ratings.to_list()\n",
    "            self.df = self.cond[self.cond['movieID'].isin(self.movies_list)]\n",
    "    def nratings(self):\n",
    "        return len(self.df.index)\n",
    "\n",
    "uim1 = UserItemData('data/user_ratedmovies.dat', \"12.01.2007\", \"16.02.2008\", 100)\n",
    "uim = UserItemData('data/user_ratedmovies.dat')\n",
    "print(uim1.nratings())\n",
    "#print(lolo1.df.head(5))\n",
    "#print(lolo1.cond)\n",
    "#print(lolo1.td_list[2])\n",
    "#print(uim1.nratings())    \n",
    "#print(uim1.df)"
   ]
  },
  {
   "cell_type": "code",
   "execution_count": 2,
   "metadata": {},
   "outputs": [
    {
     "name": "stdout",
     "output_type": "stream",
     "text": [
      "Zona Zamfirova\n"
     ]
    }
   ],
   "source": [
    "#Write a class that reads the movie file and has a get_title(movieID) method that\n",
    "#returns its title for a given movie ID. Example:\n",
    "\n",
    "#md = MovieData('data/movies.dat')\n",
    "#print(md.get_title(1))\n",
    "#Output:\n",
    "#Toy story\n",
    "import pandas as pd\n",
    "class MovieData():\n",
    "    def __init__(self, path):\n",
    "        self.path = path\n",
    "        self.df = pd.read_csv(self.path, sep='\\t')\n",
    "    def get_title(self, num):\n",
    "        return ((self.df['title'])[self.df.id == num].to_string(index=False))\n",
    "        #return self.df['title'][self.df.id == num]\n",
    "    \n",
    "md1 = MovieData(\"data/movies.dat\")\n",
    "print(md1.get_title(65011))"
   ]
  },
  {
   "cell_type": "code",
   "execution_count": 70,
   "metadata": {},
   "outputs": [
    {
     "name": "stdout",
     "output_type": "stream",
     "text": [
      "<class 'dict'>\n",
      "Movie: Toy story, score: 4\n",
      "Movie: Grumpy Old Men, score: 5\n",
      "Movie: Money Train, score: 1\n",
      "Movie: The Usual Suspects, score: 2\n",
      "Movie: City Hall, score: 5\n"
     ]
    }
   ],
   "source": [
    "#The word \"predictor\" will be used to denote classes that, in a certain way, assess for a certain user \n",
    "#the rating he would give to the movies or the products available to him. \n",
    "#These classes will have a fit(self, X) method, where X is of type UserItemData, \n",
    "#and a predict(self, user_id) method, where user_id is the user ID. \n",
    "#We will use the fit method to learn the model, and the predict to calculate the \n",
    "#recommended values for a given user. Recommended values can be e.g. returned as a dictionary.\n",
    "\n",
    "#Random predictor (+)\n",
    "#Write a RandomPredictor class that accepts a minimum and maximum rating in the constructor, \n",
    "#and the predict method returns a random value (between min and max) for each product.\n",
    "\n",
    "#md = MovieData('data/movies.dat')\n",
    "#uim = UserItemData('data/user_ratedmovies.dat') \n",
    "#rp = RandomPredictor(1, 5) rp.fit(uim) \n",
    "#pred = rp.predict(78) \n",
    "#print(type(pred)) \n",
    "#items = [1, 3, 20, 50, 100] \n",
    "#for item in items: \n",
    "#    print(\"Movie: {}, score: {}\".format(md.get_title(item), pred[item]))\n",
    "import random\n",
    "#1 : 10198\n",
    "#RATED MOVIES USER HAS NOT SEEN YET BY DEFAULT\n",
    "class RandomPredictor():\n",
    "    def __init__(self, min_num, max_num):\n",
    "        self.min_num = min_num\n",
    "        self.max_num = max_num\n",
    "    def fit(self, frame):\n",
    "        self.df = frame.df\n",
    "    def predict(self, user_id):\n",
    "        #all movieid's\n",
    "        self.all_movies_df = pd.read_csv(\"data/movies.dat\", sep='\\t')\n",
    "        self.movies = self.all_movies_df['id'].to_list()\n",
    "        #fill random rates to movies that \"user_id\" havent watched yet\n",
    "        dicti = {}\n",
    "        for i in self.movies:\n",
    "                dicti[i] = random.randint(self.min_num,self.max_num)\n",
    "        return dicti\n",
    "    def predict_unseen(self,user_id):\n",
    "        self.user_rates = self.df[self.df['userID'] == user_id]\n",
    "        self.movie = self.user_rates['movieID'].to_list()\n",
    "        #otherwise insert movies table to get number of movies\n",
    "        #all movies\n",
    "        self.full_list = self.df['movieID'].to_list()\n",
    "        self.to_watch = self.get_unwatched_movies(self.full_list, self.movie)\n",
    "        \n",
    "        #fill random rates to movies that \"user_id\" havent watched yet\n",
    "        dicti = {}\n",
    "        for i in self.to_watch:\n",
    "                dicti[i] = random.randint(self.min_num,self.max_num)\n",
    "        return dicti\n",
    "    def predict_seen(self, user_id):\n",
    "        self.user_rates = self.df[self.df['userID'] == user_id]\n",
    "        self.movie = self.user_rates['movieID'].to_list()\n",
    "        dicti = {}\n",
    "        for i in self.movie:\n",
    "                dicti[i] = random.randint(self.min_num,self.max_num)\n",
    "        return dicti\n",
    "    #enter all movies so we can find out which user havent seen yet\n",
    "    def movies_counter(self, movies_frame):\n",
    "        self.num_movies = len(self.df.index)\n",
    "    def get_unwatched_movies(self, all_movies, seen):\n",
    "        new_movies = all_movies\n",
    "        for s in seen:\n",
    "            if s in all_movies:\n",
    "                new_movies.remove(s)\n",
    "        return new_movies\n",
    "\n",
    "\n",
    "md = MovieData('data/movies.dat')\n",
    "uim = UserItemData('data/user_ratedmovies.dat') \n",
    "rp = RandomPredictor(1, 5) \n",
    "rp.fit(uim) \n",
    "pred = rp.predict(78) \n",
    "print(type(pred)) \n",
    "items = [1, 3, 20, 50, 100]\n",
    "#prints predictions for movies with some scores\n",
    "for item in items: \n",
    "    print(\"Movie: {}, score: {}\".format(md.get_title(item), pred[item]))\n",
    "    \n"
   ]
  },
  {
   "cell_type": "code",
   "execution_count": 86,
   "metadata": {
    "scrolled": true
   },
   "outputs": [
    {
     "name": "stdout",
     "output_type": "stream",
     "text": [
      "Movie: Mr. & Mrs. Smith, score: 5\n",
      "Movie: Beyond Borders, score: 4\n",
      "Movie: Jinxed!, score: 4\n",
      "Movie: Grumpy Old Men, score: 3\n",
      "Movie: Paul Blart: Mall Cop, score: 3\n",
      "Movie: Faithful, score: 3\n",
      "{33679: 5, 6886: 4, 31047: 4, 3: 3, 4093: 3, 664: 3}\n"
     ]
    }
   ],
   "source": [
    "#Recommendation (+)\n",
    "#Write a class Recommender. The class should accept the predictor in the constructor and have two methods: \n",
    "#fit(self, X) and recommend(self, userID, n = 10, rec_seen = True). \n",
    "#The first method has the same function as in the predictor, while the second method returns an edited list of \n",
    "#recommended products for the userID user. The parameter n determines the number of recommended movies, \n",
    "#and with rec_seen we determine whether we want the already watched movies (those to which the user has \n",
    "#already given a rating) or not.\n",
    "import random\n",
    "\n",
    "class Recommender():\n",
    "    def __init__(self, predictor):\n",
    "        self.predictor = predictor\n",
    "    def fit(self, x):\n",
    "        self.rates_frame = x.df\n",
    "    def recommend(self, userID ,n ,rec_seen):\n",
    "        if (rec_seen):\n",
    "            #ratings of all movies \n",
    "            self.seen_movies_dict = self.predictor.predict(userID)\n",
    "            len_dict = len(self.seen_movies_dict) \n",
    "            remove = len_dict - n \n",
    "            #limit to n movies\n",
    "            cnt = 0\n",
    "            for i in range(1, remove):\n",
    "                self.seen_movies_dict.pop(list(self.seen_movies_dict)[random.randint(1, (len - 1) - cnt)])\n",
    "                cnt = cnt + 1\n",
    "            #sort by rates\n",
    "            return self.sort_dict(self.seen_movies_dict)\n",
    "        else:\n",
    "            #movies not seen yet - > dict\n",
    "            self.not_seen = self.predictor.predict_unseen(userID)\n",
    "            len_dict = len(self.not_seen)\n",
    "            remove = len_dict - n \n",
    "            #limit to n movies\n",
    "            cnt = 0\n",
    "            for i in range(1, remove):\n",
    "                self.not_seen.pop(list(self.not_seen)[random.randint(1, (len_dict - 1) - cnt)])\n",
    "                cnt = cnt + 1\n",
    "            #sort by rates\n",
    "            return self.sort_dict(self.not_seen)\n",
    "    def sort_dict(self, dicti):\n",
    "        tuples = dicti.items()\n",
    "        sorted_tuples = sorted(tuples, key=self.sort_second, reverse=True)\n",
    "        new_dict = {}\n",
    "        for i in sorted_tuples:\n",
    "            new_dict[i[0]] = i[1]\n",
    "        return new_dict\n",
    "    def sort_second(self, element):\n",
    "        return element[1]\n",
    "\n",
    "        \n",
    "mdd = MovieData('data/movies.dat') \n",
    "uim_r = UserItemData('data/user_ratedmovies.dat') \n",
    "rp_r = RandomPredictor(1, 5)\n",
    "rp_r.fit(uim_r) \n",
    "rec = Recommender(rp_r) \n",
    "rec.fit(uim_r) \n",
    "rec_items = rec.recommend(78, n=5, rec_seen=False) \n",
    "for idmovie, val in rec_items.items(): \n",
    "    print(\"Movie: {}, score: {}\".format(md.get_title(idmovie), val)) "
   ]
  },
  {
   "cell_type": "markdown",
   "metadata": {},
   "source": [
    "Average predictor (+)\n",
    "Write the class AveragePredictor, which takes the parameter b in the constructor, where b >= 0. In the fit method, calculate the average for each movie according to the formula avg = (vs + b * g_avg) / (n + b), where:\n",
    "\n",
    "vs is the sum of all ratings for this movie,  \n",
    "n is the number of scores this movie received,  \n",
    "g_avg is the average of all movies,  \n",
    "b is the parameter of the formula for the average. If b=0, it is a simple average  \n",
    "If we use AveragePredictor(b=0) in the recommender and the rest is the same as in the previous section, we get:  \n",
    "\n",
    "Movie: Sonnenallee, score: 5.0  \n",
    "Movie: Vals Im Bashir, score: 5.0  \n",
    "Movie: Britannia Hospital, score: 5.0  \n",
    "Movie: Il mio viaggio in Italia, score: 5.0  \n",
    "Movie: Shu dan long wei, score: 5.0 \n",
    "However, if we use AveragePredictor(b=100), the values change: \n",
    "\n",
    "Movie: The Usual Suspects, score: 4.225944245560473  \n",
    "Movie: The Godfather: Part II, score: 4.146907937910189  \n",
    "Movie: Cidade de Deus, score: 4.116538340205236  \n",
    "Movie: The Dark Knight, score: 4.10413904093503  \n",
    "Movie: 12 Angry Men, score: 4.103639627096175 "
   ]
  },
  {
   "cell_type": "code",
   "execution_count": 36,
   "metadata": {},
   "outputs": [],
   "source": [
    "class AveragePredictor():\n",
    "    def __init__(self, b):\n",
    "        self.b = b\n",
    "    def fit(self, frame):\n",
    "        #UserItemData frame that we insert\n",
    "        self.movies_object = MovieData(\"data/movies.dat\")\n",
    "        #movie id's\n",
    "        self.movies = self.movies_object.df['id'].to_list()\n",
    "        #original data frame with rates \n",
    "        self.df = frame.df\n",
    "        #sum of all ratings for each movie\n",
    "        self.sums = self.df.groupby('movieID')[\"rating\"].sum().reset_index(name=\"sum\")\n",
    "        #cnt of ratings per each movie\n",
    "        self.counts = self.df.groupby('movieID')[\"rating\"].count().reset_index(name=\"count\")\n",
    "        #avg rate\n",
    "        self.all_average = self.df[\"rating\"].mean()\n",
    "        dicti = {}\n",
    "        for i in self.movies:\n",
    "            #(vs + b * g_avg) / (n + b),\n",
    "            summ = self.sums['sum'][self.sums[\"movieID\"] == i ]\n",
    "            cnt = self.counts['count'][self.counts[\"movieID\"] == i ]\n",
    "            #insert in dict  ->> movieID : average\n",
    "            dicti[i] = (summ + self.b * self.all_average) / (cnt * self.b)\n",
    "        #sort dictionary\n",
    "        sorted_dict = {}\n",
    "        sorted_keys = sorted(dicti, key=dicti.get) \n",
    "        for w in sorted_keys:\n",
    "            sorted_dict[w] = dicti[w]\n",
    "            \n",
    "        return dicti\n",
    "\n"
   ]
  },
  {
   "cell_type": "code",
   "execution_count": 37,
   "metadata": {},
   "outputs": [
    {
     "ename": "ValueError",
     "evalue": "Can only compare identically-labeled Series objects",
     "output_type": "error",
     "traceback": [
      "\u001b[0;31m---------------------------------------------------------------------------\u001b[0m",
      "\u001b[0;31mValueError\u001b[0m                                Traceback (most recent call last)",
      "\u001b[0;32m<ipython-input-37-81e03f94c4c5>\u001b[0m in \u001b[0;36m<module>\u001b[0;34m\u001b[0m\n\u001b[1;32m      1\u001b[0m \u001b[0muim_avg\u001b[0m \u001b[0;34m=\u001b[0m \u001b[0mUserItemData\u001b[0m\u001b[0;34m(\u001b[0m\u001b[0;34m'data/user_ratedmovies.dat'\u001b[0m\u001b[0;34m)\u001b[0m\u001b[0;34m\u001b[0m\u001b[0;34m\u001b[0m\u001b[0m\n\u001b[1;32m      2\u001b[0m \u001b[0map\u001b[0m \u001b[0;34m=\u001b[0m \u001b[0mAveragePredictor\u001b[0m\u001b[0;34m(\u001b[0m\u001b[0;36m20\u001b[0m\u001b[0;34m)\u001b[0m\u001b[0;34m\u001b[0m\u001b[0;34m\u001b[0m\u001b[0m\n\u001b[0;32m----> 3\u001b[0;31m \u001b[0mavg_calc\u001b[0m \u001b[0;34m=\u001b[0m \u001b[0map\u001b[0m\u001b[0;34m.\u001b[0m\u001b[0mfit\u001b[0m\u001b[0;34m(\u001b[0m\u001b[0muim_avg\u001b[0m\u001b[0;34m)\u001b[0m\u001b[0;34m\u001b[0m\u001b[0;34m\u001b[0m\u001b[0m\n\u001b[0m\u001b[1;32m      4\u001b[0m \u001b[0;31m#items = [4, 67, 34, 585, 3453]\u001b[0m\u001b[0;34m\u001b[0m\u001b[0;34m\u001b[0m\u001b[0;34m\u001b[0m\u001b[0m\n\u001b[1;32m      5\u001b[0m \u001b[0;31m#prints predictions for movies with some scores\u001b[0m\u001b[0;34m\u001b[0m\u001b[0;34m\u001b[0m\u001b[0;34m\u001b[0m\u001b[0m\n",
      "\u001b[0;32m<ipython-input-36-2d3a8937e797>\u001b[0m in \u001b[0;36mfit\u001b[0;34m(self, frame)\u001b[0m\n\u001b[1;32m     24\u001b[0m         \u001b[0;31m#sort dictionary\u001b[0m\u001b[0;34m\u001b[0m\u001b[0;34m\u001b[0m\u001b[0;34m\u001b[0m\u001b[0m\n\u001b[1;32m     25\u001b[0m         \u001b[0msorted_dict\u001b[0m \u001b[0;34m=\u001b[0m \u001b[0;34m{\u001b[0m\u001b[0;34m}\u001b[0m\u001b[0;34m\u001b[0m\u001b[0;34m\u001b[0m\u001b[0m\n\u001b[0;32m---> 26\u001b[0;31m         \u001b[0msorted_keys\u001b[0m \u001b[0;34m=\u001b[0m \u001b[0msorted\u001b[0m\u001b[0;34m(\u001b[0m\u001b[0mdicti\u001b[0m\u001b[0;34m,\u001b[0m \u001b[0mkey\u001b[0m\u001b[0;34m=\u001b[0m\u001b[0mdicti\u001b[0m\u001b[0;34m.\u001b[0m\u001b[0mget\u001b[0m\u001b[0;34m)\u001b[0m\u001b[0;34m\u001b[0m\u001b[0;34m\u001b[0m\u001b[0m\n\u001b[0m\u001b[1;32m     27\u001b[0m         \u001b[0;32mfor\u001b[0m \u001b[0mw\u001b[0m \u001b[0;32min\u001b[0m \u001b[0msorted_keys\u001b[0m\u001b[0;34m:\u001b[0m\u001b[0;34m\u001b[0m\u001b[0;34m\u001b[0m\u001b[0m\n\u001b[1;32m     28\u001b[0m             \u001b[0msorted_dict\u001b[0m\u001b[0;34m[\u001b[0m\u001b[0mw\u001b[0m\u001b[0;34m]\u001b[0m \u001b[0;34m=\u001b[0m \u001b[0mdicti\u001b[0m\u001b[0;34m[\u001b[0m\u001b[0mw\u001b[0m\u001b[0;34m]\u001b[0m\u001b[0;34m\u001b[0m\u001b[0;34m\u001b[0m\u001b[0m\n",
      "\u001b[0;32m~/.local/lib/python3.8/site-packages/pandas/core/ops/common.py\u001b[0m in \u001b[0;36mnew_method\u001b[0;34m(self, other)\u001b[0m\n\u001b[1;32m     63\u001b[0m         \u001b[0mother\u001b[0m \u001b[0;34m=\u001b[0m \u001b[0mitem_from_zerodim\u001b[0m\u001b[0;34m(\u001b[0m\u001b[0mother\u001b[0m\u001b[0;34m)\u001b[0m\u001b[0;34m\u001b[0m\u001b[0;34m\u001b[0m\u001b[0m\n\u001b[1;32m     64\u001b[0m \u001b[0;34m\u001b[0m\u001b[0m\n\u001b[0;32m---> 65\u001b[0;31m         \u001b[0;32mreturn\u001b[0m \u001b[0mmethod\u001b[0m\u001b[0;34m(\u001b[0m\u001b[0mself\u001b[0m\u001b[0;34m,\u001b[0m \u001b[0mother\u001b[0m\u001b[0;34m)\u001b[0m\u001b[0;34m\u001b[0m\u001b[0;34m\u001b[0m\u001b[0m\n\u001b[0m\u001b[1;32m     66\u001b[0m \u001b[0;34m\u001b[0m\u001b[0m\n\u001b[1;32m     67\u001b[0m     \u001b[0;32mreturn\u001b[0m \u001b[0mnew_method\u001b[0m\u001b[0;34m\u001b[0m\u001b[0;34m\u001b[0m\u001b[0m\n",
      "\u001b[0;32m~/.local/lib/python3.8/site-packages/pandas/core/arraylike.py\u001b[0m in \u001b[0;36m__lt__\u001b[0;34m(self, other)\u001b[0m\n\u001b[1;32m     35\u001b[0m     \u001b[0;34m@\u001b[0m\u001b[0munpack_zerodim_and_defer\u001b[0m\u001b[0;34m(\u001b[0m\u001b[0;34m\"__lt__\"\u001b[0m\u001b[0;34m)\u001b[0m\u001b[0;34m\u001b[0m\u001b[0;34m\u001b[0m\u001b[0m\n\u001b[1;32m     36\u001b[0m     \u001b[0;32mdef\u001b[0m \u001b[0m__lt__\u001b[0m\u001b[0;34m(\u001b[0m\u001b[0mself\u001b[0m\u001b[0;34m,\u001b[0m \u001b[0mother\u001b[0m\u001b[0;34m)\u001b[0m\u001b[0;34m:\u001b[0m\u001b[0;34m\u001b[0m\u001b[0;34m\u001b[0m\u001b[0m\n\u001b[0;32m---> 37\u001b[0;31m         \u001b[0;32mreturn\u001b[0m \u001b[0mself\u001b[0m\u001b[0;34m.\u001b[0m\u001b[0m_cmp_method\u001b[0m\u001b[0;34m(\u001b[0m\u001b[0mother\u001b[0m\u001b[0;34m,\u001b[0m \u001b[0moperator\u001b[0m\u001b[0;34m.\u001b[0m\u001b[0mlt\u001b[0m\u001b[0;34m)\u001b[0m\u001b[0;34m\u001b[0m\u001b[0;34m\u001b[0m\u001b[0m\n\u001b[0m\u001b[1;32m     38\u001b[0m \u001b[0;34m\u001b[0m\u001b[0m\n\u001b[1;32m     39\u001b[0m     \u001b[0;34m@\u001b[0m\u001b[0munpack_zerodim_and_defer\u001b[0m\u001b[0;34m(\u001b[0m\u001b[0;34m\"__le__\"\u001b[0m\u001b[0;34m)\u001b[0m\u001b[0;34m\u001b[0m\u001b[0;34m\u001b[0m\u001b[0m\n",
      "\u001b[0;32m~/.local/lib/python3.8/site-packages/pandas/core/series.py\u001b[0m in \u001b[0;36m_cmp_method\u001b[0;34m(self, other, op)\u001b[0m\n\u001b[1;32m   4971\u001b[0m \u001b[0;34m\u001b[0m\u001b[0m\n\u001b[1;32m   4972\u001b[0m         \u001b[0;32mif\u001b[0m \u001b[0misinstance\u001b[0m\u001b[0;34m(\u001b[0m\u001b[0mother\u001b[0m\u001b[0;34m,\u001b[0m \u001b[0mSeries\u001b[0m\u001b[0;34m)\u001b[0m \u001b[0;32mand\u001b[0m \u001b[0;32mnot\u001b[0m \u001b[0mself\u001b[0m\u001b[0;34m.\u001b[0m\u001b[0m_indexed_same\u001b[0m\u001b[0;34m(\u001b[0m\u001b[0mother\u001b[0m\u001b[0;34m)\u001b[0m\u001b[0;34m:\u001b[0m\u001b[0;34m\u001b[0m\u001b[0;34m\u001b[0m\u001b[0m\n\u001b[0;32m-> 4973\u001b[0;31m             \u001b[0;32mraise\u001b[0m \u001b[0mValueError\u001b[0m\u001b[0;34m(\u001b[0m\u001b[0;34m\"Can only compare identically-labeled Series objects\"\u001b[0m\u001b[0;34m)\u001b[0m\u001b[0;34m\u001b[0m\u001b[0;34m\u001b[0m\u001b[0m\n\u001b[0m\u001b[1;32m   4974\u001b[0m \u001b[0;34m\u001b[0m\u001b[0m\n\u001b[1;32m   4975\u001b[0m         \u001b[0mlvalues\u001b[0m \u001b[0;34m=\u001b[0m \u001b[0mextract_array\u001b[0m\u001b[0;34m(\u001b[0m\u001b[0mself\u001b[0m\u001b[0;34m,\u001b[0m \u001b[0mextract_numpy\u001b[0m\u001b[0;34m=\u001b[0m\u001b[0;32mTrue\u001b[0m\u001b[0;34m)\u001b[0m\u001b[0;34m\u001b[0m\u001b[0;34m\u001b[0m\u001b[0m\n",
      "\u001b[0;31mValueError\u001b[0m: Can only compare identically-labeled Series objects"
     ]
    }
   ],
   "source": [
    "uim_avg = UserItemData('data/user_ratedmovies.dat')\n",
    "ap = AveragePredictor(20)\n",
    "avg_calc = ap.fit(uim_avg) \n",
    "#items = [4, 67, 34, 585, 3453]\n",
    "#prints predictions for movies with some scores\n",
    "#for item in items: \n",
    " #   print(\"Movie: {}, score: {}\".format(md.get_title(item), avg_calc[item].to_string(index=False)))\n",
    "#top_rate =  take(5, avg_calc.items())\n",
    "print(avg_calc)\n",
    "    "
   ]
  },
  {
   "cell_type": "markdown",
   "metadata": {},
   "source": [
    "Recommending the most watched movies (+)\n",
    "Write a ViewsPredictor that returns the number of views for each movie. This is the recommendation of most viewed movies. For our example, you will get the following:\n",
    "\n",
    "rtAudienceNumRatings\n",
    "\n",
    "Movie: The Lord of the Rings: The Fellowship of the Ring, score: 1576 \n",
    "\n",
    "Movie: The Lord of the Rings: The Two Towers, score: 1528\n",
    "\n",
    "Movie: The Lord of the Rings: The Return of the King, score: 1457 \n",
    "\n",
    "Movie: The Silence of the Lambs, score: 1431 \n",
    "\n",
    "Movie: Shrek, score: 1404"
   ]
  },
  {
   "cell_type": "code",
   "execution_count": 19,
   "metadata": {},
   "outputs": [],
   "source": [
    "class ViewsPredictor():\n",
    "    def fit(self, frame):\n",
    "        self.df = frame.df\n",
    "    def predict(self):\n",
    "        self.movies = self.df['id'].to_list()\n",
    "        dicti = {}\n",
    "        for i in self.movies:\n",
    "            views = self.df['rtAudienceNumRatings'][self.df['id'] == i]\n",
    "            dicti[i] = views\n",
    "        return dicti\n",
    "            \n",
    "vp = ViewsPredictor()\n",
    "#movies data created few cells above - mdd\n",
    "vp.fit(mdd)\n",
    "dictionary = vp.predict()\n",
    "items = [4, 67, 34, 585, 3453]\n",
    "#prints predictions for movies with some scores\n",
    "for item in items: \n",
    "    print(\"Movie: {}, score: {}\".format(md.get_title(item), dictionary[item].to_string(index=False)))"
   ]
  },
  {
   "cell_type": "code",
   "execution_count": 22,
   "metadata": {},
   "outputs": [],
   "source": [
    "dicti = {1:2}"
   ]
  },
  {
   "cell_type": "code",
   "execution_count": 26,
   "metadata": {},
   "outputs": [
    {
     "ename": "AttributeError",
     "evalue": "'int' object has no attribute 'index'",
     "output_type": "error",
     "traceback": [
      "\u001b[0;31m---------------------------------------------------------------------------\u001b[0m",
      "\u001b[0;31mAttributeError\u001b[0m                            Traceback (most recent call last)",
      "\u001b[0;32m<ipython-input-26-29957e89feea>\u001b[0m in \u001b[0;36m<module>\u001b[0;34m\u001b[0m\n\u001b[0;32m----> 1\u001b[0;31m \u001b[0mprint\u001b[0m\u001b[0;34m(\u001b[0m\u001b[0mdicti\u001b[0m\u001b[0;34m[\u001b[0m\u001b[0;36m1\u001b[0m\u001b[0;34m]\u001b[0m\u001b[0;34m.\u001b[0m\u001b[0mindex\u001b[0m\u001b[0;34m)\u001b[0m\u001b[0;34m\u001b[0m\u001b[0;34m\u001b[0m\u001b[0m\n\u001b[0m",
      "\u001b[0;31mAttributeError\u001b[0m: 'int' object has no attribute 'index'"
     ]
    }
   ],
   "source": [
    "print(dicti[1].index)"
   ]
  },
  {
   "cell_type": "code",
   "execution_count": 52,
   "metadata": {},
   "outputs": [
    {
     "name": "stdout",
     "output_type": "stream",
     "text": [
      "True\n"
     ]
    }
   ],
   "source": [
    "import datetime\n",
    "\n",
    "dat = datetime.datetime.strptime(\"12/6/2001\", \"%d/%m/%Y\")\n",
    "dat1 = datetime.datetime.strptime(\"12/06/2004\", \"%d/%m/%Y\")\n",
    "print(dat<dat1)"
   ]
  },
  {
   "cell_type": "code",
   "execution_count": 75,
   "metadata": {},
   "outputs": [
    {
     "name": "stdout",
     "output_type": "stream",
     "text": [
      "dict_items([(1, 4), (2, 3)])\n",
      "[(2, 3), (1, 4)]\n"
     ]
    }
   ],
   "source": []
  },
  {
   "cell_type": "code",
   "execution_count": null,
   "metadata": {},
   "outputs": [],
   "source": []
  }
 ],
 "metadata": {
  "kernelspec": {
   "display_name": "Python 3",
   "language": "python",
   "name": "python3"
  },
  "language_info": {
   "codemirror_mode": {
    "name": "ipython",
    "version": 3
   },
   "file_extension": ".py",
   "mimetype": "text/x-python",
   "name": "python",
   "nbconvert_exporter": "python",
   "pygments_lexer": "ipython3",
   "version": "3.8.5"
  }
 },
 "nbformat": 4,
 "nbformat_minor": 4
}
