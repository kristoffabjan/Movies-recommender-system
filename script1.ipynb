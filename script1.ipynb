{
 "cells": [
  {
   "cell_type": "code",
   "execution_count": 12,
   "metadata": {
    "scrolled": true
   },
   "outputs": [],
   "source": [
    "#Write a class (e.g. named UserItemData) in which you will store the read data. \n",
    "#I suggest that you have a path argument and three optional arguments in the class constructor: \n",
    " #   from_date (from which date to read data), to_date (by which date to read data), \n",
    "  #  and min_ratings (minimum number of ratings a movie should have). Add a method to the \n",
    "   # class that tells you how many ratings it has read. I suggest that you add a method that saves the \n",
    "    #read data or read the data using the pickle library\n",
    "import pandas as pd\n",
    "\n",
    "class UserItemData():\n",
    "    def __init__(self, *args):\n",
    "        # if args is 1 - path\n",
    "        if len(args) == 1:\n",
    "            self.df = pd.read_csv(args[0], sep='\\t')\n",
    "        else:\n",
    "            self.path = args[0]\n",
    "            self.from_date = args[1]\n",
    "            self.to_date = args[2]\n",
    "            self.min_ratings = args[3]\n",
    "            self.fd_list = self.from_date.split(\".\")\n",
    "            self.td_list = self.to_date.split(\".\")\n",
    "            #self.inserted_fd = datetime.datetime(int(self.fd_list[2]), int(self.fd_list[1]), int(self.fd_list[0]))\n",
    "            \n",
    "            self.df1 = pd.read_csv(self.path, sep='\\t')\n",
    "            #dates applied BAD\n",
    "            self.cond = self.df1.loc[(self.df1['date_year'] >= int(self.fd_list[2])) & (self.df1['date_year'] <= int(self.td_list[2]))]\n",
    "            self.df2 = self.cond.groupby('movieID')[\"rating\"].count().reset_index(name=\"count\")\n",
    "            self.movies_enough_ratings = self.df2[\"movieID\"][self.df2[\"count\"] > self.min_ratings]\n",
    "            self.movies_list = self.movies_enough_ratings.to_list()\n",
    "            self.df = self.cond[self.cond['movieID'].isin(self.movies_list)]\n",
    "    def nratings(self):\n",
    "        return len(self.df.index)\n",
    "\n",
    "uim1 = UserItemData('data/user_ratedmovies.dat', \"12.10.2003\", \"12.10.2005\", 120)\n",
    "uim = UserItemData('data/user_ratedmovies.dat')\n",
    "\n",
    "#print(lolo1.df.head(5))\n",
    "#print(lolo1.cond)\n",
    "#print(lolo1.td_list[2])\n",
    "#print(uim1.nratings())    \n",
    "#print(uim1.df)"
   ]
  },
  {
   "cell_type": "code",
   "execution_count": 70,
   "metadata": {},
   "outputs": [
    {
     "name": "stdout",
     "output_type": "stream",
     "text": [
      "Zona Zamfirova\n"
     ]
    }
   ],
   "source": [
    "#Write a class that reads the movie file and has a get_title(movieID) method that\n",
    "#returns its title for a given movie ID. Example:\n",
    "\n",
    "#md = MovieData('data/movies.dat')\n",
    "#print(md.get_title(1))\n",
    "#Output:\n",
    "#Toy story\n",
    "import pandas as pd\n",
    "class MovieData():\n",
    "    def __init__(self, path):\n",
    "        self.path = path\n",
    "        self.df = pd.read_csv(self.path, sep='\\t')\n",
    "    def get_title(self, num):\n",
    "        return ((self.df['title'])[self.df.id == num].to_string(index=False))\n",
    "        #return self.df['title'][self.df.id == num]\n",
    "    \n",
    "md1 = MovieData(\"data/movies.dat\")\n",
    "print(md1.get_title(65011))"
   ]
  },
  {
   "cell_type": "code",
   "execution_count": 69,
   "metadata": {},
   "outputs": [
    {
     "name": "stdout",
     "output_type": "stream",
     "text": [
      "<class 'dict'>\n",
      "Movie: Toy story, score: 5\n",
      "Movie: Grumpy Old Men, score: 3\n",
      "Movie: Money Train, score: 5\n",
      "Movie: The Usual Suspects, score: 1\n",
      "Movie: City Hall, score: 1\n"
     ]
    }
   ],
   "source": [
    "#The word \"predictor\" will be used to denote classes that, in a certain way, assess for a certain user \n",
    "#the rating he would give to the movies or the products available to him. \n",
    "#These classes will have a fit(self, X) method, where X is of type UserItemData, \n",
    "#and a predict(self, user_id) method, where user_id is the user ID. \n",
    "#We will use the fit method to learn the model, and the predict to calculate the \n",
    "#recommended values for a given user. Recommended values can be e.g. returned as a dictionary.\n",
    "\n",
    "#Random predictor (+)\n",
    "#Write a RandomPredictor class that accepts a minimum and maximum rating in the constructor, \n",
    "#and the predict method returns a random value (between min and max) for each product.\n",
    "\n",
    "#md = MovieData('data/movies.dat')\n",
    "#uim = UserItemData('data/user_ratedmovies.dat') \n",
    "#rp = RandomPredictor(1, 5) rp.fit(uim) \n",
    "#pred = rp.predict(78) \n",
    "#print(type(pred)) \n",
    "#items = [1, 3, 20, 50, 100] \n",
    "#for item in items: \n",
    "#    print(\"Movie: {}, score: {}\".format(md.get_title(item), pred[item]))\n",
    "import random\n",
    "#1 : 10198\n",
    "class RandomPredictor():\n",
    "    def __init__(self, min_num, max_num):\n",
    "        self.min_num = min_num\n",
    "        self.max_num = max_num\n",
    "    def fit(self, frame):\n",
    "        self.df = frame.df\n",
    "    def predict(self, user_id):\n",
    "        self.user_rates = self.df[self.df['userID'] == user_id]\n",
    "        self.movie = self.user_rates['movieID'].to_list()\n",
    "        #otherwise insert movies table to get number of movies\n",
    "        self.full_list = list(range(1, 10198))\n",
    "        self.to_watch = self.get_unwatched_movies(self.full_list, self.movie)\n",
    "        \n",
    "        #fill random rates to movies that \"user_id\" havent watched yet\n",
    "        dicti = {}\n",
    "        for i in self.to_watch:\n",
    "                dicti[i] = random.randint(self.min_num,self.max_num)\n",
    "        return dicti\n",
    "    def predict_seen(self, user_id):\n",
    "        self.user_rates = self.df[self.df['userID'] == user_id]\n",
    "        self.movie = self.user_rates['movieID'].to_list()\n",
    "        dicti = {}\n",
    "        for i in self.movie:\n",
    "                dicti[i] = random.randint(self.min_num,self.max_num)\n",
    "        return dicti\n",
    "    #enter all movies so we can find out which user havent seen yet\n",
    "    def movies_counter(self, movies_frame):\n",
    "        self.num_movies = len(self.df.index)\n",
    "    def get_unwatched_movies(self, all_movies, seen):\n",
    "        new_movies = all_movies\n",
    "        for s in seen:\n",
    "            if s in all_movies:\n",
    "                new_movies.remove(s)\n",
    "        return new_movies\n",
    "\n",
    "\n",
    "md = MovieData('data/movies.dat')\n",
    "uim = UserItemData('data/user_ratedmovies.dat') \n",
    "rp = RandomPredictor(1, 5) \n",
    "rp.fit(uim) \n",
    "pred = rp.predict(78) \n",
    "print(type(pred)) \n",
    "items = [1, 3, 20, 50, 100]\n",
    "#prints predictions for movies with some scores\n",
    "for item in items: \n",
    "    print(\"Movie: {}, score: {}\".format(md.get_title(item), pred[item]))\n",
    "    \n"
   ]
  },
  {
   "cell_type": "code",
   "execution_count": 64,
   "metadata": {
    "scrolled": true
   },
   "outputs": [
    {
     "name": "stdout",
     "output_type": "stream",
     "text": [
      "Movie: Toy story, score: 1\n",
      "Movie: A Perfect Getaway, score: 1\n",
      "Movie: Scream, score: 5\n",
      "Movie: An Everlasting Piece, score: 1\n",
      "Movie: Rancho Deluxe, score: 4\n",
      "Movie: Babylon 5: The River of Souls, score: 2\n",
      "Movie: Series([], ), score: 4\n",
      "Movie: Suspect Zero, score: 3\n",
      "Movie: Series([], ), score: 1\n"
     ]
    }
   ],
   "source": [
    "#Recommendation (+)\n",
    "#Write a class Recommender. The class should accept the predictor in the constructor and have two methods: \n",
    "#fit(self, X) and recommend(self, userID, n = 10, rec_seen = True). \n",
    "#The first method has the same function as in the predictor, while the second method returns an edited list of \n",
    "#recommended products for the userID user. The parameter n determines the number of recommended movies, \n",
    "#and with rec_seen we determine whether we want the already watched movies (those to which the user has \n",
    "#already given a rating) or not.\n",
    "import random\n",
    "\n",
    "class Recommender():\n",
    "    def __init__(self, predictor):\n",
    "        self.predictor = predictor\n",
    "    def fit(self, x):\n",
    "        self.rates_frame = x.df\n",
    "    def recommend(self, userID ,n ,rec_seen):\n",
    "        if (rec_seen):\n",
    "            #movies user has seen as dict\n",
    "            self.seen_movies_dict = self.predictor.predict_seen(userID)\n",
    "            len_dict = len(self.seen_movies_dict) \n",
    "            remove = len_dict - n \n",
    "            #limit to n movies\n",
    "            cnt = 0\n",
    "            for i in range(1, remove):\n",
    "                self.seen_movies_dict.pop(list(self.seen_movies_dict)[random.randint(1, (len - 1) - cnt)])\n",
    "                cnt = cnt + 1\n",
    "            return self.seen_movies_dict\n",
    "        else:\n",
    "            #movies not seen yet - > dict\n",
    "            self.not_seen = self.predictor.predict(userID)\n",
    "            len_dict = len(self.not_seen)\n",
    "            remove = len_dict - n \n",
    "            #limit to n movies\n",
    "            cnt = 0\n",
    "            for i in range(1, remove):\n",
    "                self.not_seen.pop(list(self.not_seen)[random.randint(1, (len_dict - 1) - cnt)])\n",
    "                cnt = cnt + 1\n",
    "            return self.not_seen\n",
    "        \n",
    "mdd = MovieData('data/movies.dat') \n",
    "uim_r = UserItemData('data/user_ratedmovies.dat') \n",
    "rp_r = RandomPredictor(1, 5)\n",
    "rp_r.fit(uim_r) \n",
    "rec = Recommender(rp_r) \n",
    "rec.fit(uim_r) \n",
    "rec_items = rec.recommend(78, n=8, rec_seen=False) \n",
    "for idmovie, val in rec_items.items(): \n",
    "    print(\"Movie: {}, score: {}\".format(md.get_title(idmovie), val)) "
   ]
  },
  {
   "cell_type": "code",
   "execution_count": 45,
   "metadata": {},
   "outputs": [
    {
     "name": "stdout",
     "output_type": "stream",
     "text": [
      "dict_items([('1', 'lol'), ('3', 'lolo'), ('lol', 'kolo')])\n"
     ]
    },
    {
     "ename": "ValueError",
     "evalue": "not enough values to unpack (expected 2, got 1)",
     "output_type": "error",
     "traceback": [
      "\u001b[0;31m---------------------------------------------------------------------------\u001b[0m",
      "\u001b[0;31mValueError\u001b[0m                                Traceback (most recent call last)",
      "\u001b[0;32m<ipython-input-45-c9df8c9e08cb>\u001b[0m in \u001b[0;36m<module>\u001b[0;34m\u001b[0m\n\u001b[1;32m      1\u001b[0m \u001b[0mdic\u001b[0m \u001b[0;34m=\u001b[0m \u001b[0;34m{\u001b[0m\u001b[0;34m\"1\"\u001b[0m\u001b[0;34m:\u001b[0m\u001b[0;34m\"lol\"\u001b[0m\u001b[0;34m,\u001b[0m \u001b[0;34m\"3\"\u001b[0m\u001b[0;34m:\u001b[0m\u001b[0;34m\"lolo\"\u001b[0m\u001b[0;34m,\u001b[0m \u001b[0;34m\"lol\"\u001b[0m\u001b[0;34m:\u001b[0m \u001b[0;34m\"kolo\"\u001b[0m\u001b[0;34m}\u001b[0m\u001b[0;34m\u001b[0m\u001b[0;34m\u001b[0m\u001b[0m\n\u001b[1;32m      2\u001b[0m \u001b[0mprint\u001b[0m\u001b[0;34m(\u001b[0m\u001b[0mdic\u001b[0m\u001b[0;34m.\u001b[0m\u001b[0mitems\u001b[0m\u001b[0;34m(\u001b[0m\u001b[0;34m)\u001b[0m\u001b[0;34m)\u001b[0m\u001b[0;34m\u001b[0m\u001b[0;34m\u001b[0m\u001b[0m\n\u001b[0;32m----> 3\u001b[0;31m \u001b[0;32mfor\u001b[0m \u001b[0mkey\u001b[0m\u001b[0;34m,\u001b[0m \u001b[0mval\u001b[0m \u001b[0;32min\u001b[0m \u001b[0mdic\u001b[0m\u001b[0;34m:\u001b[0m\u001b[0;34m\u001b[0m\u001b[0;34m\u001b[0m\u001b[0m\n\u001b[0m\u001b[1;32m      4\u001b[0m     \u001b[0mprint\u001b[0m\u001b[0;34m(\u001b[0m\u001b[0mkey\u001b[0m\u001b[0;34m,\u001b[0m \u001b[0mval\u001b[0m\u001b[0;34m)\u001b[0m\u001b[0;34m\u001b[0m\u001b[0;34m\u001b[0m\u001b[0m\n",
      "\u001b[0;31mValueError\u001b[0m: not enough values to unpack (expected 2, got 1)"
     ]
    }
   ],
   "source": [
    "dic = {\"1\":\"lol\", \"3\":\"lolo\", \"lol\": \"kolo\"}\n",
    "print(dic.items())\n",
    "for key, val in dic:\n",
    "    print(key, val)"
   ]
  },
  {
   "cell_type": "code",
   "execution_count": 34,
   "metadata": {},
   "outputs": [
    {
     "name": "stdout",
     "output_type": "stream",
     "text": [
      "dict_values([4, 23])\n"
     ]
    }
   ],
   "source": [
    "print(dic.values())"
   ]
  },
  {
   "cell_type": "code",
   "execution_count": null,
   "metadata": {},
   "outputs": [],
   "source": []
  }
 ],
 "metadata": {
  "kernelspec": {
   "display_name": "Python 3",
   "language": "python",
   "name": "python3"
  },
  "language_info": {
   "codemirror_mode": {
    "name": "ipython",
    "version": 3
   },
   "file_extension": ".py",
   "mimetype": "text/x-python",
   "name": "python",
   "nbconvert_exporter": "python",
   "pygments_lexer": "ipython3",
   "version": "3.8.5"
  }
 },
 "nbformat": 4,
 "nbformat_minor": 4
}
