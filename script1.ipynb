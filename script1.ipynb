{
 "cells": [
  {
   "cell_type": "code",
   "execution_count": 116,
   "metadata": {
    "scrolled": true
   },
   "outputs": [
    {
     "ename": "AttributeError",
     "evalue": "'DataFrame' object has no attribute 'rows'",
     "output_type": "error",
     "traceback": [
      "\u001b[0;31m---------------------------------------------------------------------------\u001b[0m",
      "\u001b[0;31mAttributeError\u001b[0m                            Traceback (most recent call last)",
      "\u001b[0;32m<ipython-input-116-6425f695894f>\u001b[0m in \u001b[0;36m<module>\u001b[0;34m\u001b[0m\n\u001b[1;32m     37\u001b[0m \u001b[0;31m#print(lolo1.cond)\u001b[0m\u001b[0;34m\u001b[0m\u001b[0;34m\u001b[0m\u001b[0;34m\u001b[0m\u001b[0m\n\u001b[1;32m     38\u001b[0m \u001b[0;31m#print(lolo1.td_list[2])\u001b[0m\u001b[0;34m\u001b[0m\u001b[0;34m\u001b[0m\u001b[0;34m\u001b[0m\u001b[0m\n\u001b[0;32m---> 39\u001b[0;31m \u001b[0mprint\u001b[0m\u001b[0;34m(\u001b[0m\u001b[0mlolo\u001b[0m\u001b[0;34m.\u001b[0m\u001b[0mnratings\u001b[0m\u001b[0;34m(\u001b[0m\u001b[0;34m)\u001b[0m\u001b[0;34m)\u001b[0m\u001b[0;34m\u001b[0m\u001b[0;34m\u001b[0m\u001b[0m\n\u001b[0m",
      "\u001b[0;32m<ipython-input-116-6425f695894f>\u001b[0m in \u001b[0;36mnratings\u001b[0;34m(self)\u001b[0m\n\u001b[1;32m     30\u001b[0m             \u001b[0mself\u001b[0m\u001b[0;34m.\u001b[0m\u001b[0mfinal\u001b[0m \u001b[0;34m=\u001b[0m \u001b[0mself\u001b[0m\u001b[0;34m.\u001b[0m\u001b[0mcond\u001b[0m\u001b[0;34m[\u001b[0m\u001b[0mself\u001b[0m\u001b[0;34m.\u001b[0m\u001b[0mcond\u001b[0m\u001b[0;34m[\u001b[0m\u001b[0;34m'movieID'\u001b[0m\u001b[0;34m]\u001b[0m\u001b[0;34m.\u001b[0m\u001b[0misin\u001b[0m\u001b[0;34m(\u001b[0m\u001b[0mself\u001b[0m\u001b[0;34m.\u001b[0m\u001b[0mmovies_list\u001b[0m\u001b[0;34m)\u001b[0m\u001b[0;34m]\u001b[0m\u001b[0;34m\u001b[0m\u001b[0;34m\u001b[0m\u001b[0m\n\u001b[1;32m     31\u001b[0m     \u001b[0;32mdef\u001b[0m \u001b[0mnratings\u001b[0m\u001b[0;34m(\u001b[0m\u001b[0mself\u001b[0m\u001b[0;34m)\u001b[0m\u001b[0;34m:\u001b[0m\u001b[0;34m\u001b[0m\u001b[0;34m\u001b[0m\u001b[0m\n\u001b[0;32m---> 32\u001b[0;31m         \u001b[0;32mreturn\u001b[0m \u001b[0mlen\u001b[0m\u001b[0;34m(\u001b[0m\u001b[0mself\u001b[0m\u001b[0;34m.\u001b[0m\u001b[0mfinal\u001b[0m\u001b[0;34m.\u001b[0m\u001b[0mrows\u001b[0m\u001b[0;34m)\u001b[0m\u001b[0;34m\u001b[0m\u001b[0;34m\u001b[0m\u001b[0m\n\u001b[0m\u001b[1;32m     33\u001b[0m \u001b[0;34m\u001b[0m\u001b[0m\n\u001b[1;32m     34\u001b[0m \u001b[0mlolo\u001b[0m \u001b[0;34m=\u001b[0m \u001b[0mUserItemData\u001b[0m\u001b[0;34m(\u001b[0m\u001b[0;34m'data/user_ratedmovies.dat'\u001b[0m\u001b[0;34m,\u001b[0m \u001b[0;34m\"12.10.2003\"\u001b[0m\u001b[0;34m,\u001b[0m \u001b[0;34m\"12.10.2005\"\u001b[0m\u001b[0;34m,\u001b[0m \u001b[0;36m20\u001b[0m\u001b[0;34m)\u001b[0m\u001b[0;34m\u001b[0m\u001b[0;34m\u001b[0m\u001b[0m\n",
      "\u001b[0;32m~/.local/lib/python3.8/site-packages/pandas/core/generic.py\u001b[0m in \u001b[0;36m__getattr__\u001b[0;34m(self, name)\u001b[0m\n\u001b[1;32m   5463\u001b[0m             \u001b[0;32mif\u001b[0m \u001b[0mself\u001b[0m\u001b[0;34m.\u001b[0m\u001b[0m_info_axis\u001b[0m\u001b[0;34m.\u001b[0m\u001b[0m_can_hold_identifiers_and_holds_name\u001b[0m\u001b[0;34m(\u001b[0m\u001b[0mname\u001b[0m\u001b[0;34m)\u001b[0m\u001b[0;34m:\u001b[0m\u001b[0;34m\u001b[0m\u001b[0;34m\u001b[0m\u001b[0m\n\u001b[1;32m   5464\u001b[0m                 \u001b[0;32mreturn\u001b[0m \u001b[0mself\u001b[0m\u001b[0;34m[\u001b[0m\u001b[0mname\u001b[0m\u001b[0;34m]\u001b[0m\u001b[0;34m\u001b[0m\u001b[0;34m\u001b[0m\u001b[0m\n\u001b[0;32m-> 5465\u001b[0;31m             \u001b[0;32mreturn\u001b[0m \u001b[0mobject\u001b[0m\u001b[0;34m.\u001b[0m\u001b[0m__getattribute__\u001b[0m\u001b[0;34m(\u001b[0m\u001b[0mself\u001b[0m\u001b[0;34m,\u001b[0m \u001b[0mname\u001b[0m\u001b[0;34m)\u001b[0m\u001b[0;34m\u001b[0m\u001b[0;34m\u001b[0m\u001b[0m\n\u001b[0m\u001b[1;32m   5466\u001b[0m \u001b[0;34m\u001b[0m\u001b[0m\n\u001b[1;32m   5467\u001b[0m     \u001b[0;32mdef\u001b[0m \u001b[0m__setattr__\u001b[0m\u001b[0;34m(\u001b[0m\u001b[0mself\u001b[0m\u001b[0;34m,\u001b[0m \u001b[0mname\u001b[0m\u001b[0;34m:\u001b[0m \u001b[0mstr\u001b[0m\u001b[0;34m,\u001b[0m \u001b[0mvalue\u001b[0m\u001b[0;34m)\u001b[0m \u001b[0;34m->\u001b[0m \u001b[0;32mNone\u001b[0m\u001b[0;34m:\u001b[0m\u001b[0;34m\u001b[0m\u001b[0;34m\u001b[0m\u001b[0m\n",
      "\u001b[0;31mAttributeError\u001b[0m: 'DataFrame' object has no attribute 'rows'"
     ]
    }
   ],
   "source": [
    "#Write a class (e.g. named UserItemData) in which you will store the read data. \n",
    "#I suggest that you have a path argument and three optional arguments in the class constructor: \n",
    " #   from_date (from which date to read data), to_date (by which date to read data), \n",
    "  #  and min_ratings (minimum number of ratings a movie should have). Add a method to the \n",
    "   # class that tells you how many ratings it has read. I suggest that you add a method that saves the \n",
    "    #read data or read the data using the pickle library\n",
    "import pandas as pd\n",
    "import datetime\n",
    "\n",
    "class UserItemData():\n",
    "    def __init__(self, *args):\n",
    "        # if args is 1 - path\n",
    "        if len(args) == 1:\n",
    "            self.final = pd.read_csv(args[0], sep='\\t')\n",
    "        else:\n",
    "            self.path = args[0]\n",
    "            self.from_date = args[1]\n",
    "            self.to_date = args[2]\n",
    "            self.min_ratings = args[3]\n",
    "            self.fd_list = self.from_date.split(\".\")\n",
    "            self.td_list = self.to_date.split(\".\")\n",
    "            self.inserted_fd = datetime.datetime(int(self.fd_list[2]), int(self.fd_list[1]), int(self.fd_list[0]))\n",
    "            \n",
    "            self.df1 = pd.read_csv(self.path, sep='\\t')\n",
    "            #dates applied BAD\n",
    "            self.cond = self.df1.loc[(self.df1['date_year'] >= int(self.fd_list[2])) & (self.df1['date_year'] <= int(self.td_list[2]))]\n",
    "            self.df = self.cond.groupby('movieID')[\"rating\"].count().reset_index(name=\"count\")\n",
    "            self.movies_enough_ratings = self.df[\"movieID\"][self.df[\"count\"] > self.min_ratings]\n",
    "            self.movies_list = self.movies_enough_ratings.to_list()\n",
    "            self.final = self.cond[self.cond['movieID'].isin(self.movies_list)]\n",
    "    def nratings(self):\n",
    "        return len(self.final.rows)\n",
    "\n",
    "lolo = UserItemData('data/user_ratedmovies.dat', \"12.10.2003\", \"12.10.2005\", 20)\n",
    "\n",
    "#print(lolo1.df.head(5))\n",
    "#print(lolo1.cond)\n",
    "#print(lolo1.td_list[2])\n",
    "print(lolo.nratings())    \n"
   ]
  },
  {
   "cell_type": "code",
   "execution_count": null,
   "metadata": {},
   "outputs": [],
   "source": [
    "        \n"
   ]
  },
  {
   "cell_type": "code",
   "execution_count": 18,
   "metadata": {},
   "outputs": [
    {
     "name": "stdout",
     "output_type": "stream",
     "text": [
      "4    Father of the Bride Part II\n",
      "Name: title, dtype: object\n"
     ]
    }
   ],
   "source": [
    "#Write a class that reads the movie file and has a get_title(movieID) method that\n",
    "#returns its title for a given movie ID. Example:\n",
    "\n",
    "#md = MovieData('data/movies.dat')\n",
    "#print(md.get_title(1))\n",
    "#Output:\n",
    "#Toy story\n",
    "import pandas as pd\n",
    "class MovieData():\n",
    "    def __init__(self, path):\n",
    "        self.path = path\n",
    "        self.df = pd.read_csv(self.path, sep='\\t')\n",
    "    def get_title(self, num):\n",
    "        return self.df['title'][self.df.id == num]\n",
    "    \n",
    "md = MovieData(\"data/movies.dat\")\n",
    "print(md.get_title(5))\n",
    "#print(md.get_title(5))"
   ]
  },
  {
   "cell_type": "code",
   "execution_count": 3,
   "metadata": {},
   "outputs": [
    {
     "name": "stdout",
     "output_type": "stream",
     "text": [
      "   userID  movieID  rating  date_day  date_month  date_year  date_hour  \\\n",
      "0      75        3     1.0        29          10       2006         23   \n",
      "1      75       32     4.5        29          10       2006         23   \n",
      "2      75      110     4.0        29          10       2006         23   \n",
      "3      75      160     2.0        29          10       2006         23   \n",
      "4      75      163     4.0        29          10       2006         23   \n",
      "\n",
      "   date_minute  date_second  \n",
      "0           17           16  \n",
      "1           23           44  \n",
      "2           30            8  \n",
      "3           16           52  \n",
      "4           29           30  \n"
     ]
    }
   ],
   "source": [
    "import pandas as pd\n",
    "import datetime\n",
    "\n",
    "df = pd.read_csv('data/user_ratedmovies.dat', sep='\\t')\n",
    "print(df.head(5))"
   ]
  },
  {
   "cell_type": "code",
   "execution_count": 81,
   "metadata": {},
   "outputs": [
    {
     "data": {
      "text/plain": [
       "True"
      ]
     },
     "execution_count": 81,
     "metadata": {},
     "output_type": "execute_result"
    }
   ],
   "source": [
    "1 in [1,2]"
   ]
  },
  {
   "cell_type": "code",
   "execution_count": null,
   "metadata": {},
   "outputs": [],
   "source": []
  }
 ],
 "metadata": {
  "kernelspec": {
   "display_name": "Python 3",
   "language": "python",
   "name": "python3"
  },
  "language_info": {
   "codemirror_mode": {
    "name": "ipython",
    "version": 3
   },
   "file_extension": ".py",
   "mimetype": "text/x-python",
   "name": "python",
   "nbconvert_exporter": "python",
   "pygments_lexer": "ipython3",
   "version": "3.8.5"
  }
 },
 "nbformat": 4,
 "nbformat_minor": 4
}
